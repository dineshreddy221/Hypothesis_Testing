{
 "cells": [
  {
   "cell_type": "code",
   "execution_count": 1,
   "id": "4dfeb0e2",
   "metadata": {},
   "outputs": [],
   "source": [
    "import matplotlib.pyplot as plt\n",
    "import numpy as np\n",
    "from scipy.stats import norm\n",
    "from scipy.stats import t"
   ]
  },
  {
   "cell_type": "code",
   "execution_count": 2,
   "id": "38cdb08f",
   "metadata": {},
   "outputs": [],
   "source": [
    "# t_score for sampling distributions\n",
    "\n",
    "def t_score(sample_size, sample_mean, pop_mean, sample_std):\n",
    "    numerator = sample_mean - pop_mean\n",
    "    denominator = sample_std /sample_size**0.5\n",
    "    return numerator / denominator"
   ]
  },
  {
   "cell_type": "markdown",
   "id": "93338d0d",
   "metadata": {},
   "source": [
    "<B> Q-1: Pista House selling Hyderabadi Chicken Dum biryani claims that each parcel packet has 500 grams of biryani (also mentioned on the label of packet). You are skeptical of their claims and believe that on average each packet does not contain 500 grams of biryani. How do you prove your claim? ~(Given that the population std is 50)~<B> "
   ]
  },
  {
   "cell_type": "markdown",
   "id": "38353d5d",
   "metadata": {},
   "source": [
    "$Step - 1:$\n",
    "<li> Alternate Hypothesis (Bold claim):</li>\n",
    "\n",
    "$$ H_1:\\mu = 500 $$\n",
    "\n",
    "<li> Null Hypothesis (status Quo):</li>\n",
    "\n",
    "$$ H_0:\\mu \\neq 500 $$\n",
    "\n",
    "$ Step - 2: $\n",
    "<li> collect a sample of size n = 10</li>\n",
    "\n",
    "$$ [490,220,470,500,496,496,495,498,508,480] $$\n",
    "\n",
    "<li> Compute sample mean </li>\n",
    "$$ \\bar{x} =\\ 465.3 $$\n",
    "\n",
    "$ Step - 3: $\n",
    "\n",
    "<li> Compute Test Statistic:</li>\n",
    "\n",
    "$$ t= \\frac{\\bar{x}-\\mu}{S/ \\sqrt[2]{n}} $$\n",
    "\n",
    "$ Step - 4:$\n",
    "\n",
    "<li> Decide $\\alpha$ or significance level</li>\n",
    "\n",
    "$ Step - 5.1: $\n",
    "\n",
    "<li> tailed t-test: </li>\n",
    "\n",
    "$$ reject\\ H_0\\ if\\ ? $$\n",
    "\n",
    "$ Step - 5.2: 4\n",
    "\n",
    "<li> Compute p-value </li>\n",
    "\n"
   ]
  },
  {
   "cell_type": "code",
   "execution_count": 3,
   "id": "05e2a702",
   "metadata": {},
   "outputs": [
    {
     "data": {
      "text/plain": [
       "465.3"
      ]
     },
     "execution_count": 3,
     "metadata": {},
     "output_type": "execute_result"
    }
   ],
   "source": [
    "# Calculating sample mean\n",
    "sample = [490,220,470,500,496,496,495,498,508,480]\n",
    "sample_mean=sum(sample)/len(sample)\n",
    "sample_mean"
   ]
  },
  {
   "cell_type": "code",
   "execution_count": 4,
   "id": "d1ff4bb4",
   "metadata": {},
   "outputs": [
    {
     "name": "stdout",
     "output_type": "stream",
     "text": [
      "1.633333333333332\n"
     ]
    }
   ],
   "source": [
    "# calculating sample standard deviation\n",
    "sample_size=10\n",
    "for i in range(len(sample)):\n",
    "    sample_std=((sample[i]-sample_mean)**2)**0.5/(sample_size-1)          \n",
    "print(sample_std)"
   ]
  },
  {
   "cell_type": "code",
   "execution_count": 5,
   "id": "08d51d3b",
   "metadata": {},
   "outputs": [],
   "source": [
    "# Defining the sample and population parameters\n",
    "\n",
    "sample_size = 10\n",
    "sample_mean = 465.3\n",
    "pop_mean = 500\n",
    "sample_std = 1.63"
   ]
  },
  {
   "cell_type": "code",
   "execution_count": 6,
   "id": "c46588d6",
   "metadata": {},
   "outputs": [
    {
     "name": "stdout",
     "output_type": "stream",
     "text": [
      "-67.31965325634523\n"
     ]
    }
   ],
   "source": [
    "# Calculating t_score\n",
    "\n",
    "t_region=t_score(sample_size, sample_mean, pop_mean, sample_std)\n",
    "print(t_region)"
   ]
  },
  {
   "cell_type": "code",
   "execution_count": 7,
   "id": "c7a289db",
   "metadata": {},
   "outputs": [
    {
     "name": "stdout",
     "output_type": "stream",
     "text": [
      "2.2621571627409915\n"
     ]
    }
   ],
   "source": [
    "# Two Tail Calculating the z-critical value\n",
    "alpha = 1- 0.95\n",
    "\n",
    "t_critical = t.ppf(1-alpha/2, df=9)\n",
    "\n",
    "print(t_critical)"
   ]
  },
  {
   "cell_type": "code",
   "execution_count": 8,
   "id": "22bed096",
   "metadata": {},
   "outputs": [
    {
     "data": {
      "text/plain": [
       "Text(465.3, 0.007, 'x_bar')"
      ]
     },
     "execution_count": 8,
     "metadata": {},
     "output_type": "execute_result"
    },
    {
     "data": {
      "image/png": "[encoded data removed]",
      "text/plain": [
       "<Figure size 432x288 with 1 Axes>"
      ]
     },
     "metadata": {
      "needs_background": "light"
     },
     "output_type": "display_data"
    }
   ],
   "source": [
    "# plotting the sampling distribution with rejection regions\n",
    "\n",
    "# Defining the x minimum and x maximum\n",
    "x_min = 400\n",
    "x_max = 600\n",
    "\n",
    "# Defining the sampling distribution mean and sampling distribution std\n",
    "mean = pop_mean\n",
    "std = ((sample[i]-sample_mean)**2)**0.5/(sample_size-1)\n",
    "\n",
    "# plotting the graph and setting the x limits\n",
    "x = np.linspace(x_min, x_max, 100)\n",
    "y = norm.pdf(x, mean, std)\n",
    "plt.xlim(x_min, x_max)\n",
    "plt.plot(x, y)\n",
    "\n",
    "#computing the left and right critical values (Two tailed test)\n",
    "t_critical_left = pop_mean + (-t_critical * std)\n",
    "t_critical_right = pop_mean + (t_critical * std)\n",
    "\n",
    "# shading the left rejection region\n",
    "x1 = np.linspace(x_min, t_critical_left, 100)\n",
    "y1 = norm.pdf(x1, mean, std)\n",
    "plt.fill_between(x1, y1, color='red')\n",
    "\n",
    "# shading the right rejection region\n",
    "x2 = np.linspace(t_critical_right, x_max, 100)\n",
    "y2 = norm.pdf(x2, mean, std)\n",
    "plt.fill_between(x2, y2, color='red')\n",
    "\n",
    "# plotting the sample mean and concluding the results\n",
    "plt.scatter(sample_mean, 0)\n",
    "plt.annotate(\"x_bar\", (sample_mean, 0.007))\n",
    "\n"
   ]
  },
  {
   "cell_type": "code",
   "execution_count": 9,
   "id": "5811f7f1",
   "metadata": {},
   "outputs": [
    {
     "name": "stdout",
     "output_type": "stream",
     "text": [
      "Reject Null Hypothesis\n"
     ]
    }
   ],
   "source": [
    "if (np.abs(t_region) > t_critical):\n",
    "    print(\"Reject Null Hypothesis\")\n",
    "else:\n",
    "    print(\"Fail to reject Null Hypothesis\")"
   ]
  },
  {
   "cell_type": "code",
   "execution_count": 10,
   "id": "e51f7028",
   "metadata": {},
   "outputs": [
    {
     "name": "stdout",
     "output_type": "stream",
     "text": [
      "p_value =  0.0\n",
      "Reject Null Hypothesis\n"
     ]
    }
   ],
   "source": [
    "# Conclusion using p test\n",
    "\n",
    "p_value = 2 * (1.0 - norm.cdf(np.abs(t_region)))\n",
    "\n",
    "print(\"p_value = \", p_value)\n",
    "\n",
    "if(p_value < alpha):\n",
    "    print(\"Reject Null Hypothesis\")\n",
    "else:\n",
    "    print(\"Fail to reject Null Hypothesis\")"
   ]
  },
  {
   "cell_type": "markdown",
   "id": "16825d0b",
   "metadata": {},
   "source": [
    "\n",
    "<B> Q-2: You have developed a new Natural Language Processing Algorithms and done a user study. You claim that the average rating given by the users is greater than 4 on a scale of 1 to 5. How do you prove this to your client? ~(Given that the population std is 0.5)~ <B>"
   ]
  },
  {
   "cell_type": "markdown",
   "id": "48cfca35",
   "metadata": {},
   "source": [
    "$Step - 1:$\n",
    "<li> Alternate Hypothesis (Bold claim):</li>\n",
    "\n",
    "$$ H_1:\\mu >4$$\n",
    "\n",
    "<li> Null Hypothesis (status Quo):</li>\n",
    "\n",
    "$$ H_0:\\mu \\geq4 $$\n",
    "\n",
    "$ Step - 2: $\n",
    "<li> collect a sample of size n = 20</li>\n",
    "\n",
    "$$ [4,3,5,4,5,3,5,5,4,2,4,5,5,4,4,5,4,5,4,5] $$\n",
    "\n",
    "<li> Compute sample mean </li>\n",
    "$$ \\bar{x} = 4.25 $$\n",
    "\n",
    "$ Step - 3: $\n",
    "\n",
    "<li> Compute Test Statistic:</li>\n",
    "\n",
    "$$ t = \\frac{\\bar{x} - \\mu}{S\\ /\\sqrt[2]{n}} $$\n",
    "\n",
    "$ Step - 4:$\n",
    "\n",
    "<li> Decide $\\alpha$ or significance level</li>\n",
    "\n",
    "$ Step - 5.1: $\n",
    "\n",
    "<li> tailed t-test: </li>\n",
    "\n",
    "$$ reject\\ H_0\\ if\\ ? $$\n",
    "\n",
    "$ Step - 5.2: 4\n",
    "\n",
    "<li> Compute p-value </li>\n",
    "\n"
   ]
  },
  {
   "cell_type": "code",
   "execution_count": 11,
   "id": "5b3ea574",
   "metadata": {},
   "outputs": [
    {
     "data": {
      "text/plain": [
       "4.25"
      ]
     },
     "execution_count": 11,
     "metadata": {},
     "output_type": "execute_result"
    }
   ],
   "source": [
    "sample =[4,3,5,4,5,3,5,5,4,2,4,5,5,4,4,5,4,5,4,5]\n",
    "sample_mean = sum(sample)/len(sample)\n",
    "sample_mean"
   ]
  },
  {
   "cell_type": "code",
   "execution_count": 12,
   "id": "99f79017",
   "metadata": {},
   "outputs": [
    {
     "name": "stdout",
     "output_type": "stream",
     "text": [
      "0.06578947368421052\n"
     ]
    }
   ],
   "source": [
    "sample_size=20\n",
    "for i in sample:\n",
    "    sample_std = ((sample[i] - sample_mean)**2)**0.5/(sample_size - 1)\n",
    "print(sample_std)"
   ]
  },
  {
   "cell_type": "code",
   "execution_count": 13,
   "id": "de0beece",
   "metadata": {},
   "outputs": [],
   "source": [
    "# Defining the sample and population parameters\n",
    "sample_mean = 4.25\n",
    "sample_size = 20\n",
    "pop_mean = 4\n",
    "sample_std =0.076"
   ]
  },
  {
   "cell_type": "code",
   "execution_count": 14,
   "id": "32adf4da",
   "metadata": {},
   "outputs": [
    {
     "name": "stdout",
     "output_type": "stream",
     "text": [
      "14.710973536182827\n"
     ]
    }
   ],
   "source": [
    "# Calculating t_score\n",
    "t_region=t_score(sample_size, sample_mean, pop_mean, sample_std)\n",
    "print(t_region)"
   ]
  },
  {
   "cell_type": "code",
   "execution_count": 15,
   "id": "d4869e4c",
   "metadata": {},
   "outputs": [
    {
     "name": "stdout",
     "output_type": "stream",
     "text": [
      "1.729132811521367\n"
     ]
    }
   ],
   "source": [
    "# one tail - calculating the t_score\n",
    "\n",
    "confidence_level = 0.95\n",
    "\n",
    "alpha = 1- confidence_level\n",
    "\n",
    "t_critical = t.ppf(1 - alpha, df=19)\n",
    "\n",
    "print(t_critical)"
   ]
  },
  {
   "cell_type": "code",
   "execution_count": 16,
   "id": "04380e96",
   "metadata": {},
   "outputs": [
    {
     "data": {
      "text/plain": [
       "Text(4.25, 0.1, 'x_bar')"
      ]
     },
     "execution_count": 16,
     "metadata": {},
     "output_type": "execute_result"
    },
    {
     "data": {
      "image/png": "[encoded data removed]",
      "text/plain": [
       "<Figure size 432x288 with 1 Axes>"
      ]
     },
     "metadata": {
      "needs_background": "light"
     },
     "output_type": "display_data"
    }
   ],
   "source": [
    "# Ploting the sampling distribution with rejection regions\n",
    "\n",
    "# Defining the x minimum and x maximum\n",
    "x_min = 3.5\n",
    "x_max = 4.5\n",
    "\n",
    "\n",
    "# Defining the sampling distribution mean and sampling distribution std\n",
    "mean = pop_mean\n",
    "std = ((sample[i] - sample_mean)**2)**0.5/(sample_size - 1)\n",
    "\n",
    "\n",
    "# Ploting the graph and setting the x limits\n",
    "x = np.linspace(x_min, x_max, 100)\n",
    "y = norm.pdf(x, mean, std)\n",
    "plt.xlim(x_min, x_max)\n",
    "plt.plot(x, y)\n",
    "\n",
    "\n",
    "# Computing the right critical value (Right tailed Test)\n",
    "t_critical_right = pop_mean + (t_critical * std)\n",
    "\n",
    "\n",
    "# Shading the right rejection region\n",
    "x1 = np.linspace(t_critical_right, x_max, 100)\n",
    "y1 = norm.pdf(x1, mean, std)\n",
    "plt.fill_between(x1, y1, color='orange')\n",
    "\n",
    "\n",
    "# Ploting the sample mean and concluding the results \n",
    "plt.scatter(sample_mean, 0)\n",
    "plt.annotate(\"x_bar\", (sample_mean, 0.1))"
   ]
  },
  {
   "cell_type": "code",
   "execution_count": 17,
   "id": "5a3f6415",
   "metadata": {},
   "outputs": [
    {
     "name": "stdout",
     "output_type": "stream",
     "text": [
      "Reject Null Hypothesis\n"
     ]
    }
   ],
   "source": [
    "# conclusion using t-test\n",
    "\n",
    "if(np.abs(t_region) > t_critical):\n",
    "    print(\"Reject Null Hypothesis\")\n",
    "else:\n",
    "    print(\"Fail to Reject Null Hypothesis\")"
   ]
  },
  {
   "cell_type": "code",
   "execution_count": 18,
   "id": "b5ad5e19",
   "metadata": {},
   "outputs": [
    {
     "name": "stdout",
     "output_type": "stream",
     "text": [
      "p_value =  0.0\n",
      "Reject Null Hypothesis\n"
     ]
    }
   ],
   "source": [
    "# Conclusion using p test\n",
    "\n",
    "p_value = 1.0 - norm.cdf(np.abs(t_region))\n",
    "\n",
    "print(\"p_value = \", p_value)\n",
    "\n",
    "if(p_value < alpha):\n",
    "    print(\"Reject Null Hypothesis\")\n",
    "else:\n",
    "    print(\"Fail to reject Null Hypothesis\")"
   ]
  },
  {
   "cell_type": "markdown",
   "id": "267af95d",
   "metadata": {},
   "source": [
    "<B>Q-3: TATA has developed a better fuel management system for the SUV segment. They claim that with this system, on average the SUV's mileage is at least 15 km/litre? ~(Given that the population std is 1)~<B>\n"
   ]
  },
  {
   "cell_type": "markdown",
   "id": "c43c6752",
   "metadata": {},
   "source": [
    "$Step - 1:$\n",
    "<li> Alternate Hypothesis (Bold claim):</li>\n",
    "\n",
    "$$ H_1:\\mu >15 $$\n",
    "\n",
    "<li> Null Hypothesis (status Quo):</li>\n",
    "\n",
    "$$ H_0:\\mu \\geq 15 $$\n",
    "\n",
    "$ Step - 2: $\n",
    "<li> collect a sample of size n = 20</li>\n",
    "\n",
    "$$ [14.08,14.13,15.65,13.78,16.26,14.97,15.36,15.81,14.53,16.79,15.78,16.98,13.23,15.43,15.46,13.88,14.31,14.41,15.76,15.38] $$\n",
    "\n",
    "<li> Compute sample mean </li>\n",
    "$$ \\bar{x} =\\ 15.09 $$\n",
    "\n",
    "$ Step - 3: $\n",
    "\n",
    "<li> Compute Test Statistic:</li>\n",
    "\n",
    "$$ t = \\frac{\\bar{x} - \\mu}{S\\ /\\sqrt[2]{n}} $$\n",
    "\n",
    "$ Step - 4:$\n",
    "\n",
    "<li> Decide $\\alpha$ or significance level</li>\n",
    "\n",
    "$ Step - 5.1: $\n",
    "\n",
    "<li> tailed t-test: </li>\n",
    "\n",
    "$$ reject\\ H_0\\ if\\ ? $$\n",
    "\n",
    "$ Step - 5.2: 4\n",
    "\n",
    "<li> Compute p-value </li>\n",
    "\n"
   ]
  },
  {
   "cell_type": "code",
   "execution_count": 19,
   "id": "0c0a1008",
   "metadata": {},
   "outputs": [
    {
     "data": {
      "text/plain": [
       "15.098999999999998"
      ]
     },
     "execution_count": 19,
     "metadata": {},
     "output_type": "execute_result"
    }
   ],
   "source": [
    "# calculating the sample mean\n",
    "sample =[14.08,14.13,15.65,13.78,16.26,14.97,15.36,15.81,14.53,16.79,15.78,16.98,13.23,15.43,15.46,13.88,14.31,14.41,15.76,15.38]\n",
    "sample_mean = sum(sample)/len(sample)\n",
    "sample_mean"
   ]
  },
  {
   "cell_type": "code",
   "execution_count": 20,
   "id": "e8f9f91f",
   "metadata": {},
   "outputs": [
    {
     "name": "stdout",
     "output_type": "stream",
     "text": [
      "0.06415789473684198\n"
     ]
    }
   ],
   "source": [
    "sample_size = 20\n",
    "for i in sample:\n",
    "    sample_std =((sample[int(i)]-sample_mean)**2)**0.5/(sample_size - 1)\n",
    "print(sample_std)"
   ]
  },
  {
   "cell_type": "code",
   "execution_count": 21,
   "id": "dcd033bf",
   "metadata": {},
   "outputs": [],
   "source": [
    "sample_size = 20\n",
    "sample_mean = 15.09\n",
    "pop_mean = 15\n",
    "sample_std = 0.06"
   ]
  },
  {
   "cell_type": "code",
   "execution_count": 22,
   "id": "b702ad18",
   "metadata": {},
   "outputs": [
    {
     "name": "stdout",
     "output_type": "stream",
     "text": [
      "6.708203932499359\n"
     ]
    }
   ],
   "source": [
    "t_region = t_score(sample_size, sample_mean, pop_mean, sample_std)\n",
    "print(t_region)"
   ]
  },
  {
   "cell_type": "code",
   "execution_count": 23,
   "id": "afd08728",
   "metadata": {},
   "outputs": [
    {
     "name": "stdout",
     "output_type": "stream",
     "text": [
      "1.729132811521367\n"
     ]
    }
   ],
   "source": [
    "# one tail - calculating the t_score\n",
    "from scipy.stats import t\n",
    "confidence_level = 0.95\n",
    "\n",
    "alpha = 1- confidence_level\n",
    "\n",
    "t_critical = t.ppf(1 - alpha, df=19)\n",
    "\n",
    "print(t_critical)"
   ]
  },
  {
   "cell_type": "code",
   "execution_count": 24,
   "id": "54a3643b",
   "metadata": {},
   "outputs": [
    {
     "data": {
      "text/plain": [
       "Text(15.09, 0.1, 'x_bar')"
      ]
     },
     "execution_count": 24,
     "metadata": {},
     "output_type": "execute_result"
    },
    {
     "data": {
      "image/png": "[encoded data removed]",
      "text/plain": [
       "<Figure size 432x288 with 1 Axes>"
      ]
     },
     "metadata": {
      "needs_background": "light"
     },
     "output_type": "display_data"
    }
   ],
   "source": [
    "x_min = 12\n",
    "x_max = 18\n",
    "\n",
    "mean = pop_mean\n",
    "std = ((sample[int(i)]-sample_mean)**2)**0.5/(sample_size - 1)\n",
    "\n",
    "x = np.linspace(x_min, x_max, 100)\n",
    "y = norm.pdf(x, mean, std)\n",
    "\n",
    "plt.xlim(x_min, x_max)\n",
    "# plt.ylim(0, 0.03)\n",
    "\n",
    "plt.plot(x, y)\n",
    "\n",
    "t_critical_right = pop_mean + (t_critical * std)\n",
    "\n",
    "x1 = np.linspace(t_critical_right, x_max, 100)\n",
    "y1 = norm.pdf(x1, mean, std)\n",
    "plt.fill_between(x1, y1, color='orange')\n",
    "\n",
    "plt.scatter(sample_mean, 0)\n",
    "plt.annotate(\"x_bar\", (sample_mean, 0.1))"
   ]
  },
  {
   "cell_type": "code",
   "execution_count": 25,
   "id": "a3f291e3",
   "metadata": {},
   "outputs": [
    {
     "name": "stdout",
     "output_type": "stream",
     "text": [
      "Reject Null Hypothesis\n"
     ]
    }
   ],
   "source": [
    "if(t_region > t_critical):\n",
    "    print(\"Reject Null Hypothesis\")\n",
    "else:\n",
    "    print(\"Fail to Reject Null Hypothesis\")"
   ]
  },
  {
   "cell_type": "code",
   "execution_count": 26,
   "id": "3c7d80b3",
   "metadata": {},
   "outputs": [
    {
     "name": "stdout",
     "output_type": "stream",
     "text": [
      "p_value =  9.851675031313789e-12\n",
      "Reject Null Hypothesis\n"
     ]
    }
   ],
   "source": [
    "p_value = 1.0 - norm.cdf(np.abs(t_region))\n",
    "\n",
    "print(\"p_value = \", p_value)\n",
    "\n",
    "if(p_value < alpha):\n",
    "    print(\"Reject Null Hypothesis\")\n",
    "else:\n",
    "    print(\"Fail to reject Null Hypothesis\")"
   ]
  },
  {
   "cell_type": "markdown",
   "id": "8cae247e",
   "metadata": {},
   "source": [
    "<B>Q-4: You have developed a new Machine Learning Application and claim that on average it takes less than 100 ms to predict for any future datapoint. How do you convince your client about this claim? (Assume sample size = 100 and sample mean = 97.5) ~(Based on past data you know that the std is 10 ms)~<B>"
   ]
  },
  {
   "cell_type": "markdown",
   "id": "c4a6c1cf",
   "metadata": {},
   "source": [
    "$Step - 1:$\n",
    "<li> Alternate Hypothesis (Bold claim):</li>\n",
    "\n",
    "$$ H_1:\\mu <100$$\n",
    "\n",
    "<li> Null Hypothesis (status Quo):</li>\n",
    "\n",
    "$$ H_0:\\mu \\leq 100$$\n",
    "\n",
    "$ Step - 2: $\n",
    "<li> collect a sample of size n = 100</li>\n",
    "\n",
    "\n",
    "<li> Compute sample mean </li>\n",
    "$$ \\bar{x} =\\ 97.5 $$\n",
    "\n",
    "$ Step - 3: $\n",
    "\n",
    "<li> Compute Test Statistic:</li>\n",
    "\n",
    "$$ t= \\frac{\\bar{x} - \\mu}{S\\ /\\sqrt[2]{n}} $$\n",
    "\n",
    "$ Step - 4:$\n",
    "\n",
    "<li> Decide $\\alpha$ or significance level</li>\n",
    "\n",
    "$ Step - 5.1: $\n",
    "\n",
    "<li> tailed t-test: </li>\n",
    "\n",
    "$$ reject\\ H_0\\ if\\ ? $$\n",
    "\n",
    "$ Step - 5.2: 4\n",
    "\n",
    "<li> Compute p-value </li>\n",
    "\n"
   ]
  },
  {
   "cell_type": "code",
   "execution_count": 27,
   "id": "d2cfea0a",
   "metadata": {},
   "outputs": [
    {
     "data": {
      "text/plain": [
       "0.9848484848484849"
      ]
     },
     "execution_count": 27,
     "metadata": {},
     "output_type": "execute_result"
    }
   ],
   "source": [
    "sample_mean= 97.5\n",
    "sample_size = 100\n",
    "sample_std = (sample_mean**2)**0.5/(sample_size - 1)\n",
    "sample_std"
   ]
  },
  {
   "cell_type": "code",
   "execution_count": 28,
   "id": "c1515717",
   "metadata": {},
   "outputs": [],
   "source": [
    "sample_size = 100\n",
    "sample_mean = 97.5\n",
    "pop_mean = 100\n",
    "sample_std = 0.98"
   ]
  },
  {
   "cell_type": "code",
   "execution_count": 29,
   "id": "8711d8e3",
   "metadata": {},
   "outputs": [
    {
     "name": "stdout",
     "output_type": "stream",
     "text": [
      "-25.51020408163265\n"
     ]
    }
   ],
   "source": [
    "T = t_score(sample_size, sample_mean, pop_mean, sample_std)\n",
    "print(T)"
   ]
  },
  {
   "cell_type": "code",
   "execution_count": 30,
   "id": "3ccbda7f",
   "metadata": {},
   "outputs": [
    {
     "name": "stdout",
     "output_type": "stream",
     "text": [
      "1.6603911559963895\n"
     ]
    }
   ],
   "source": [
    "# one tail - calculating the t_score\n",
    "from scipy.stats import t\n",
    "confidence_level = 0.95\n",
    "\n",
    "alpha = 1- confidence_level\n",
    "\n",
    "t_critical = t.ppf(1 - alpha, df=99)\n",
    "\n",
    "print(t_critical)"
   ]
  },
  {
   "cell_type": "code",
   "execution_count": 31,
   "id": "16a3b8b7",
   "metadata": {
    "scrolled": true
   },
   "outputs": [
    {
     "data": {
      "text/plain": [
       "Text(97.5, 0.0001, 'x_bar')"
      ]
     },
     "execution_count": 31,
     "metadata": {},
     "output_type": "execute_result"
    },
    {
     "data": {
      "image/png": "[encoded data removed]",
      "text/plain": [
       "<Figure size 432x288 with 1 Axes>"
      ]
     },
     "metadata": {
      "needs_background": "light"
     },
     "output_type": "display_data"
    }
   ],
   "source": [
    "x_min = 95\n",
    "x_max = 105\n",
    "\n",
    "mean = pop_mean\n",
    "std =(sample_mean**2)**0.5/(sample_size - 1)\n",
    "\n",
    "x = np.linspace(x_min, x_max, 100)\n",
    "y = norm.pdf(x, mean, std)\n",
    "\n",
    "plt.xlim(x_min, x_max)\n",
    "# plt.ylim(0, 0.03)\n",
    "\n",
    "plt.plot(x, y)\n",
    "\n",
    "t_critical_left = pop_mean + (-t_critical * std)\n",
    "\n",
    "x1 = np.linspace(x_min, t_critical_left, 100)\n",
    "y1 = norm.pdf(x1, mean, std)\n",
    "plt.fill_between(x1, y1, color='orange')\n",
    "\n",
    "plt.scatter(sample_mean, 0)\n",
    "plt.annotate(\"x_bar\", (sample_mean, 0.0001))\n"
   ]
  },
  {
   "cell_type": "code",
   "execution_count": 32,
   "id": "3431e78c",
   "metadata": {},
   "outputs": [
    {
     "name": "stdout",
     "output_type": "stream",
     "text": [
      "Reject Null Hypothesis\n"
     ]
    }
   ],
   "source": [
    "if(np.abs(T) > -t_critical):\n",
    "    print(\"Reject Null Hypothesis\")\n",
    "else:\n",
    "    print(\"Fail to reject Null Hypothesis\")"
   ]
  },
  {
   "cell_type": "code",
   "execution_count": 33,
   "id": "e25e772c",
   "metadata": {},
   "outputs": [
    {
     "name": "stdout",
     "output_type": "stream",
     "text": [
      "p_value =  0.0\n",
      "Reject Null Hypothesis\n"
     ]
    }
   ],
   "source": [
    "p_value = 1.0 - norm.cdf(np.abs(T))\n",
    "\n",
    "print(\"p_value = \", p_value)\n",
    "\n",
    "if(p_value < alpha):\n",
    "    print(\"Reject Null Hypothesis\")\n",
    "else:\n",
    "    print(\"Fail to reject Null Hypothesis\")"
   ]
  },
  {
   "cell_type": "code",
   "execution_count": null,
   "id": "b155a64c",
   "metadata": {},
   "outputs": [],
   "source": []
  }
 ],
 "metadata": {
  "kernelspec": {
   "display_name": "Python 3",
   "language": "python",
   "name": "python3"
  },
  "language_info": {
   "codemirror_mode": {
    "name": "ipython",
    "version": 3
   },
   "file_extension": ".py",
   "mimetype": "text/x-python",
   "name": "python",
   "nbconvert_exporter": "python",
   "pygments_lexer": "ipython3",
   "version": "3.8.8"
  }
 },
 "nbformat": 4,
 "nbformat_minor": 5
}
